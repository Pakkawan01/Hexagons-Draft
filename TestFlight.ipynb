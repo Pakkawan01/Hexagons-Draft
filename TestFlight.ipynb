{
 "cells": [
  {
   "cell_type": "code",
   "execution_count": 13,
   "id": "8bbcb18f",
   "metadata": {},
   "outputs": [],
   "source": [
    "import pandas as pd\n",
    "import sympy\n",
    "import ast  \n",
    "from dimension_3 import solve_homogeous3"
   ]
  },
  {
   "cell_type": "code",
   "execution_count": 14,
   "id": "8b47d87d",
   "metadata": {},
   "outputs": [],
   "source": [
    "def solve_homogeous3_test(angle_1,angle_2) :\n",
    "  import sympy as sp\n",
    "  def angle_from_x_axis(angles_list): #ฟังก์ชันตำนวณมุมที่ทำกับแกน x\n",
    "    new_angles = [0]\n",
    "    for i in range(0, len(angles_list)-1):\n",
    "      next_angle = new_angles[i] + (180 - angles_list[i])\n",
    "      new_angles.append(next_angle)\n",
    "    return new_angles\n",
    "  def calculate_trig(angles_list): #ฟังก์ชันแยก cos, sin\n",
    "    cos_values = [sp.cos(sp.rad(angle)) for angle in angle_from_x_axis(angles_list)]\n",
    "    sin_values = [sp.sin(sp.rad(angle)) for angle in angle_from_x_axis(angles_list)]\n",
    "    #print(cos_values,sin_values)\n",
    "    return cos_values, sin_values\n",
    "  cos_results1, sin_results1 = calculate_trig(angle_1)\n",
    "  cos_results2, sin_results2 = calculate_trig(angle_2)\n",
    "  #print(cos_results1)\n",
    "  A = sp.Matrix([\n",
    "    cos_results1,\n",
    "    sin_results1,\n",
    "    sin_results2,\n",
    "    cos_results2])\n",
    "  # หา RREF ของเมทริกซ์\n",
    "  rref_matrix, pivot_columns = A.rref()\n",
    "  # แสดงผลลัพท์\n",
    "  print(\"RREF Matrix:\")\n",
    "  sp.pretty_print(rref_matrix)\n",
    "  print(\"Pivot Columns:\", pivot_columns)\n",
    "  dimension_null_space = 6-len(pivot_columns) #จำนวนตัวแปรอิสระ\n",
    "  # print('Dimension of null space:',dimension_null_space)\n",
    "  # แยก dimensions\n",
    "  # for i in range(4) :\n",
    "  #   row_i = rref_matrix[i,:]\n",
    "  #   print(str(sorted(row_i)))\n",
    "  #   if str(sorted(row_i)) == '[0, 0, 0, 0, 0, 1]' :\n",
    "  #     raise Exception (\"Side can't be zero!!\")\n",
    "  #   else : \n",
    "  #     continue\n",
    "  if dimension_null_space == 3 :\n",
    "    from sympy.solvers.simplex import lpmax\n",
    "    from sympy.abc import x, y\n",
    "    # แยกคอลลัมที่มีตัวแปรอิสระ\n",
    "    free_var_col = {0,1,2,3,4,5} - set(pivot_columns)\n",
    "    free_col1, free_col2, free_col3 = free_var_col\n",
    "    print('free_col:', free_col1, free_col2, free_col3)\n",
    "    # ดึงคอลัมน์ที่,uตัวแปรอิสระ\n",
    "    col_1 = rref_matrix[:, free_col1]\n",
    "    col_2 = rref_matrix[:, free_col2]\n",
    "    col_3 = rref_matrix[:, free_col3]\n",
    "    print(col_1)\n",
    "    print(col_2)\n",
    "    print(col_3)\n",
    "    ineq_all = [(x * round(a,20) + y*round(b,20)+round(c,20) <= 0) for a, b, c in zip(col_1, col_2, col_3)] + [(x >= 0),(y>=0)]\n",
    "    print(ineq_all)\n",
    "    constraint = [c.evalf() if isinstance(c, sp.Expr) else c for c in ineq_all]\n",
    "    print(constraint)\n",
    "    solve_sim_x = lpmax(x, constraint)\n",
    "    print(solve_sim_x)\n",
    "    solve_sim_y = lpmax(y, constraint)\n",
    "    print(solve_sim_y)\n",
    "    return solve_sim_x,solve_sim_y\n",
    "  else :\n",
    "    return sp.EmptySet\n",
    "\n"
   ]
  },
  {
   "cell_type": "code",
   "execution_count": 15,
   "id": "8a1c953a",
   "metadata": {},
   "outputs": [],
   "source": [
    "def solve_homogeous3_unqiue(angle_1,angle_2) :\n",
    "  import sympy as sp\n",
    "  def angle_from_x_axis(angles_list): #ฟังก์ชันตำนวณมุมที่ทำกับแกน x\n",
    "    new_angles = [0]\n",
    "    for i in range(0, len(angles_list)-1):\n",
    "      next_angle = new_angles[i] + (180 - angles_list[i])\n",
    "      new_angles.append(next_angle)\n",
    "    return new_angles\n",
    "  def calculate_trig(angles_list): #ฟังก์ชันแยก cos, sin\n",
    "    cos_values = [sp.cos(sp.rad(angle)) for angle in angle_from_x_axis(angles_list)]\n",
    "    sin_values = [sp.sin(sp.rad(angle)) for angle in angle_from_x_axis(angles_list)]\n",
    "    #print(cos_values,sin_values)\n",
    "    return cos_values, sin_values\n",
    "  cos_results1, sin_results1 = calculate_trig(angle_1)\n",
    "  cos_results2, sin_results2 = calculate_trig(angle_2)\n",
    "  #print(cos_results1)\n",
    "  A = sp.Matrix([\n",
    "    cos_results1,\n",
    "    sin_results1,\n",
    "    sin_results2,\n",
    "    cos_results2])\n",
    "  # หา RREF ของเมทริกซ์\n",
    "  rref_matrix, pivot_columns = A.rref()\n",
    "  # แสดงผลลัพท์\n",
    "  print(\"RREF Matrix:\")\n",
    "  sp.pretty_print(rref_matrix)\n",
    "  print(\"Pivot Columns:\", pivot_columns)\n",
    "  dimension_null_space = 6-len(pivot_columns) #จำนวนตัวแปรอิสระ\n",
    "  # print('Dimension of null space:',dimension_null_space)\n",
    "  # แยก dimensions\n",
    "  # for i in range(4) :\n",
    "  #   row_i = rref_matrix[i,:]\n",
    "  #   print(str(sorted(row_i)))\n",
    "  #   if str(sorted(row_i)) == '[0, 0, 0, 0, 0, 1]' :\n",
    "  #     raise Exception (\"Side can't be zero!!\")\n",
    "  #   else : \n",
    "  #     continue\n",
    "  if dimension_null_space == 3 :\n",
    "    from sympy.solvers.simplex import lpmax\n",
    "    from sympy.abc import x, y\n",
    "    # แยกคอลลัมที่มีตัวแปรอิสระ\n",
    "    free_var_col = {0,1,2,3,4,5} - set(pivot_columns)\n",
    "    free_col1, free_col2, free_col3 = free_var_col\n",
    "    print('free_col1, free_col2, free_col3:', free_col1, free_col2, free_col3)\n",
    "    # ดึงคอลัมน์ที่,uตัวแปรอิสระ\n",
    "    col_1 = rref_matrix[:, free_col1]\n",
    "    col_2 = rref_matrix[:, free_col2]\n",
    "    col_3 = rref_matrix[:, free_col3]\n",
    "    print(col_1)\n",
    "    print(col_2)\n",
    "    print(col_3)\n",
    "    ineq_all = [(x * round(a,20) + round(b,20)+y*round(c,20) <= 0) for a, b, c in zip(col_1, col_2, col_3)] + [(x >= 0),(y>=0)]\n",
    "    print(ineq_all)\n",
    "    constraint = [c.evalf() if isinstance(c, sp.Expr) else c for c in ineq_all]\n",
    "    print(constraint)\n",
    "    solve_simplex = lpmax(x, constraint)\n",
    "    return solve_simplex\n",
    "  else :\n",
    "    return sp.EmptySet\n",
    "\n"
   ]
  },
  {
   "cell_type": "code",
   "execution_count": 16,
   "id": "6b720e9a",
   "metadata": {},
   "outputs": [],
   "source": [
    "# df = pd.read_excel('/Users/ramboair/My_Doc/Hexagons/new3dim/sidezeros/case2_sidezeros.xlsx')\n",
    "# for i in range(df.shape[0]) :\n",
    "#     angle1,angle2 = df.loc[i]\n",
    "#     parsed_angle1 = ast.literal_eval(angle1)\n",
    "#     parsed_angle2 = ast.literal_eval(angle2)\n",
    "#     angle1 = parsed_angle1\n",
    "#     angle2 = parsed_angle2\n",
    "#     print(angle1,angle2,type(angle1))\n",
    "#     solve_homogeous3_test(angle1,angle2)"
   ]
  },
  {
   "cell_type": "code",
   "execution_count": 17,
   "id": "ba50a1f1",
   "metadata": {},
   "outputs": [
    {
     "name": "stdout",
     "output_type": "stream",
     "text": [
      "RREF Matrix:\n",
      "⎡                         -√3 + √6 + 3                ⎤\n",
      "⎢1  0  0      0           ────────────           0    ⎥\n",
      "⎢                           -3 + √3                   ⎥\n",
      "⎢                                                     ⎥\n",
      "⎢         -3 + 2⋅√3      -3⋅√2 - √3 + √6     -3 + 2⋅√3⎥\n",
      "⎢0  1  0  ─────────      ───────────────     ─────────⎥\n",
      "⎢          -3 + √3           -3 + √3          -3 + √3 ⎥\n",
      "⎢                                                     ⎥\n",
      "⎢         -√6 + 3⋅√2  -3⋅√2 - 2⋅√3 + 2 + √6  -√6 + √2 ⎥\n",
      "⎢0  0  1  ──────────  ─────────────────────  ─────────⎥\n",
      "⎢         -2 + 2⋅√3         -2 + 2⋅√3        -2 + 2⋅√3⎥\n",
      "⎢                                                     ⎥\n",
      "⎣0  0  0      0                 0                0    ⎦\n",
      "Pivot Columns: (0, 1, 2)\n",
      "free_col: 3 4 5\n",
      "Matrix([[0], [(-3 + 2*sqrt(3))/(-3 + sqrt(3))], [(-sqrt(6) + 3*sqrt(2))/(-2 + 2*sqrt(3))], [0]])\n",
      "Matrix([[(-sqrt(3) + sqrt(6) + 3)/(-3 + sqrt(3))], [(-3*sqrt(2) - sqrt(3) + sqrt(6))/(-3 + sqrt(3))], [(-3*sqrt(2) - 2*sqrt(3) + 2 + sqrt(6))/(-2 + 2*sqrt(3))], [0]])\n",
      "Matrix([[0], [(-3 + 2*sqrt(3))/(-3 + sqrt(3))], [(-sqrt(6) + sqrt(2))/(-2 + 2*sqrt(3))], [0]])\n",
      "[-2.9318516525781365735*y <= 0, -0.36602540378443864676*x + 2.78023896615753369556*y - 0.36602540378443864676 <= 0, 1.2247448713915890491*x - 2.2247448713915890491*y - 0.7071067811865475244 <= 0, True, x >= 0, y >= 0]\n",
      "[-2.9318516525781365735*y <= 0, -0.36602540378443864676*x + 2.78023896615753369556*y - 0.36602540378443864676 <= 0, 1.2247448713915890491*x - 2.2247448713915890491*y - 0.7071067811865475244 <= 0, True, x >= 0, y >= 0]\n",
      "(1.07313218497098617116, {x: 1.07313218497098617116, y: 0.272933029980245451134})\n",
      "(0.272933029980245451133, {x: 1.07313218497098617116, y: 0.272933029980245451133})\n"
     ]
    },
    {
     "data": {
      "text/plain": [
       "((1.07313218497098617116,\n",
       "  {x: 1.07313218497098617116, y: 0.272933029980245451134}),\n",
       " (0.272933029980245451133,\n",
       "  {x: 1.07313218497098617116, y: 0.272933029980245451133}))"
      ]
     },
     "execution_count": 17,
     "metadata": {},
     "output_type": "execute_result"
    }
   ],
   "source": [
    "solve_homogeous3_test((120, 135, 165, 135, 75, 90),(135, 135, 165, 90, 120, 75))"
   ]
  },
  {
   "cell_type": "code",
   "execution_count": 18,
   "id": "15dbbae4",
   "metadata": {},
   "outputs": [
    {
     "name": "stdout",
     "output_type": "stream",
     "text": [
      "RREF Matrix:\n",
      "⎡          -3 + √3     √3             ⎤\n",
      "⎢1  0  0  ─────────  ──────     1/2   ⎥\n",
      "⎢         -2 + 2⋅√3  1 - √3           ⎥\n",
      "⎢                                     ⎥\n",
      "⎢                     -1              ⎥\n",
      "⎢0  1  0      0      ──────      0    ⎥\n",
      "⎢                    1   √3           ⎥\n",
      "⎢                    ─ - ──           ⎥\n",
      "⎢                    2   2            ⎥\n",
      "⎢                                     ⎥\n",
      "⎢                      √3     -3 + √3 ⎥\n",
      "⎢0  0  1     1/2     ──────  ─────────⎥\n",
      "⎢                    1 - √3  -2 + 2⋅√3⎥\n",
      "⎢                                     ⎥\n",
      "⎣0  0  0      0        0         0    ⎦\n",
      "Pivot Columns: (0, 1, 2)\n",
      "free_col: 3 4 5\n",
      "Matrix([[(-3 + sqrt(3))/(-2 + 2*sqrt(3))], [0], [1/2], [0]])\n",
      "Matrix([[sqrt(3)/(1 - sqrt(3))], [-1/(1/2 - sqrt(3)/2)], [sqrt(3)/(1 - sqrt(3))], [0]])\n",
      "Matrix([[1/2], [0], [(-3 + sqrt(3))/(-2 + 2*sqrt(3))], [0]])\n",
      "[-0.86602540378443864676*x - 2.36602540378443864676*y + 0.5 <= 0, 2.73205080756887729353*y <= 0, 0.5*x - 2.36602540378443864676*y - 0.86602540378443864676 <= 0, True, x >= 0, y >= 0]\n",
      "[-0.86602540378443864676*x - 2.36602540378443864676*y + 0.5 <= 0, 2.73205080756887729353*y <= 0, 0.5*x - 2.36602540378443864676*y - 0.86602540378443864676 <= 0, True, x >= 0, y >= 0]\n",
      "(1.7320508075688772935, {x: 1.7320508075688772935, y: 0})\n",
      "(0, {x: 0.57735026918962576451, y: 0})\n"
     ]
    },
    {
     "data": {
      "text/plain": [
       "((1.7320508075688772935, {x: 1.7320508075688772935, y: 0}),\n",
       " (0, {x: 0.57735026918962576451, y: 0}))"
      ]
     },
     "execution_count": 18,
     "metadata": {},
     "output_type": "execute_result"
    }
   ],
   "source": [
    "solve_homogeous3_test((150, 120, 120, 60, 150, 120),(120, 150, 120, 150, 60, 120)) #case2 ใช้ไม่ได้"
   ]
  },
  {
   "cell_type": "code",
   "execution_count": 26,
   "id": "e0197053",
   "metadata": {},
   "outputs": [
    {
     "name": "stdout",
     "output_type": "stream",
     "text": [
      "RREF Matrix:\n",
      "⎡          -4⋅√3 - 6 + √6 + 3⋅√2          -4 - 2⋅√3              -2 + √2 + √6  ↪\n",
      "⎢1  0  0  ───────────────────────  ───────────────────────  ────────────────── ↪\n",
      "⎢         -4 - 2⋅√3 + 5⋅√2 + 3⋅√6  -4 - 2⋅√3 + 5⋅√2 + 3⋅√6  -4 - 2⋅√3 + 5⋅√2 + ↪\n",
      "⎢                                                                              ↪\n",
      "⎢                                  -4⋅√2 - 2⋅√6 + 6 + 4⋅√3                     ↪\n",
      "⎢0  1  0             0             ───────────────────────             0       ↪\n",
      "⎢                                  -4 - 2⋅√3 + 5⋅√2 + 3⋅√6                     ↪\n",
      "⎢                                                                              ↪\n",
      "⎢              -2 - √2 + √6                √2 + √6             -2⋅√3 + √6 + 3⋅ ↪\n",
      "⎢0  0  1    ───────────────────      ───────────────────      ──────────────── ↪\n",
      "⎢           -4 - 2⋅√3 + √2 + √6      -4 - 2⋅√3 + √2 + √6      -4 - 2⋅√3 + √2 + ↪\n",
      "⎢                                                                              ↪\n",
      "⎣0  0  0             0                        0                        0       ↪\n",
      "\n",
      "↪      ⎤\n",
      "↪ ─────⎥\n",
      "↪  3⋅√6⎥\n",
      "↪      ⎥\n",
      "↪      ⎥\n",
      "↪      ⎥\n",
      "↪      ⎥\n",
      "↪      ⎥\n",
      "↪ √2   ⎥\n",
      "↪ ───  ⎥\n",
      "↪  √6  ⎥\n",
      "↪      ⎥\n",
      "↪      ⎦\n",
      "Pivot Columns: (0, 1, 2)\n",
      "free_col: 3 4 5\n",
      "Matrix([[(-4*sqrt(3) - 6 + sqrt(6) + 3*sqrt(2))/(-4 - 2*sqrt(3) + 5*sqrt(2) + 3*sqrt(6))], [0], [(-2 - sqrt(2) + sqrt(6))/(-4 - 2*sqrt(3) + sqrt(2) + sqrt(6))], [0]])\n",
      "Matrix([[(-4 - 2*sqrt(3))/(-4 - 2*sqrt(3) + 5*sqrt(2) + 3*sqrt(6))], [(-4*sqrt(2) - 2*sqrt(6) + 6 + 4*sqrt(3))/(-4 - 2*sqrt(3) + 5*sqrt(2) + 3*sqrt(6))], [(sqrt(2) + sqrt(6))/(-4 - 2*sqrt(3) + sqrt(2) + sqrt(6))], [0]])\n",
      "Matrix([[(-2 + sqrt(2) + sqrt(6))/(-4 - 2*sqrt(3) + 5*sqrt(2) + 3*sqrt(6))], [0], [(-2*sqrt(3) + sqrt(6) + 3*sqrt(2))/(-4 - 2*sqrt(3) + sqrt(2) + sqrt(6))], [0]])\n",
      "[-0.8965754721680535241*x - 1.07313218497098617116*y + 0.26794919243112270647 <= 0, 0.34108137740210887764*y <= 0, 0.26794919243112270647*x - 1.07313218497098617116*y - 0.8965754721680535241 <= 0, True, x >= 0, y >= 0]\n",
      "[-0.8965754721680535241*x - 1.07313218497098617116*y + 0.26794919243112270647 <= 0, 0.34108137740210887764*y <= 0, 0.26794919243112270647*x - 1.07313218497098617116*y - 0.8965754721680535241 <= 0, True, x >= 0, y >= 0]\n",
      "(3.3460652149512316223, {x: 3.3460652149512316223, y: 0})\n",
      "(0, {x: 0.29885849072268450803, y: 0})\n"
     ]
    },
    {
     "data": {
      "text/plain": [
       "((3.3460652149512316223, {x: 3.3460652149512316223, y: 0}),\n",
       " (0, {x: 0.29885849072268450803, y: 0}))"
      ]
     },
     "execution_count": 26,
     "metadata": {},
     "output_type": "execute_result"
    }
   ],
   "source": [
    "solve_homogeous3_test((105, 150, 120, 120, 105, 120),(150, 105, 120, 105, 120, 120)) #case2"
   ]
  },
  {
   "cell_type": "code",
   "execution_count": 60,
   "id": "80ce229d",
   "metadata": {},
   "outputs": [
    {
     "name": "stdout",
     "output_type": "stream",
     "text": [
      "Stared case1\n",
      "End case1\n",
      "Stared case2\n",
      "End case2\n",
      "Stared case3\n",
      "End case3\n",
      "Stared case6\n",
      "End case6\n",
      "Stared case7\n",
      "End case7\n",
      "Stared case8\n",
      "End case8\n",
      "Stared case9\n",
      "End case9\n",
      "Stared case10\n",
      "End case10\n",
      "Stared case11\n",
      "End case11\n"
     ]
    }
   ],
   "source": [
    "import ast\n",
    "from dimension_3 import solve_homogeous3\n",
    "case_list = ['case1','case2','case3','case6','case7','case8','case9','case10','case11']\n",
    "for case_i in case_list :\n",
    "    print(f'Stared {case_i}')\n",
    "    df = pd.read_excel(f'/Users/ramboair/My_Doc/Hexagons/new3dim/solved/{case_i}_solved.xlsx',usecols=[0,1])\n",
    "    filter_list = list()\n",
    "    for i in range(df.shape[0]) :\n",
    "        angle1, angle2 = df.iloc[i]\n",
    "        parsed_angle1 = ast.literal_eval(angle1)\n",
    "        parsed_angle2 = ast.literal_eval(angle2)\n",
    "        angle1 = parsed_angle1\n",
    "        angle2 = parsed_angle2\n",
    "        # print(type(angle1),angle1,angle2)\n",
    "        solve = solve_homogeous3(angle1,angle2)\n",
    "        lpmax_x,lpmax_y = solve\n",
    "        # print(lpmax_x[0],',',lpmax_y[0])\n",
    "        if (lpmax_x[0] == 0) | (lpmax_y[0] == 0) :\n",
    "            pass\n",
    "        else :\n",
    "            filter_list.append((angle1,angle2,solve))\n",
    "    pd.DataFrame(filter_list).to_excel(f'/Users/ramboair/My_Doc/Hexagons/new3dim/solved/filter_solved/{case_i}_filter.xlsx',index=False)\n",
    "    print(f'End {case_i}')"
   ]
  }
 ],
 "metadata": {
  "kernelspec": {
   "display_name": ".venv",
   "language": "python",
   "name": "python3"
  },
  "language_info": {
   "codemirror_mode": {
    "name": "ipython",
    "version": 3
   },
   "file_extension": ".py",
   "mimetype": "text/x-python",
   "name": "python",
   "nbconvert_exporter": "python",
   "pygments_lexer": "ipython3",
   "version": "3.13.1"
  }
 },
 "nbformat": 4,
 "nbformat_minor": 5
}
