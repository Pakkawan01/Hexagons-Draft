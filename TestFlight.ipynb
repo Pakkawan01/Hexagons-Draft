{
 "cells": [
  {
   "cell_type": "code",
   "execution_count": 13,
   "id": "8bbcb18f",
   "metadata": {},
   "outputs": [],
   "source": [
    "import pandas as pd\n",
    "import sympy\n",
    "import ast  \n",
    "from dimension_3 import solve_homogeous3"
   ]
  },
  {
   "cell_type": "code",
   "execution_count": 60,
   "id": "80ce229d",
   "metadata": {},
   "outputs": [
    {
     "name": "stdout",
     "output_type": "stream",
     "text": [
      "Stared case1\n",
      "End case1\n",
      "Stared case2\n",
      "End case2\n",
      "Stared case3\n",
      "End case3\n",
      "Stared case6\n",
      "End case6\n",
      "Stared case7\n",
      "End case7\n",
      "Stared case8\n",
      "End case8\n",
      "Stared case9\n",
      "End case9\n",
      "Stared case10\n",
      "End case10\n",
      "Stared case11\n",
      "End case11\n"
     ]
    }
   ],
   "source": [
    "import ast\n",
    "from dimension_3 import solve_homogeous3\n",
    "case_list = ['case1','case2','case3','case6','case7','case8','case9','case10','case11']\n",
    "for case_i in case_list :\n",
    "    print(f'Stared {case_i}')\n",
    "    df = pd.read_excel(f'/Users/ramboair/My_Doc/Hexagons/new3dim/solved/{case_i}_solved.xlsx',usecols=[0,1])\n",
    "    filter_list = list()\n",
    "    for i in range(df.shape[0]) :\n",
    "        angle1, angle2 = df.iloc[i]\n",
    "        parsed_angle1 = ast.literal_eval(angle1)\n",
    "        parsed_angle2 = ast.literal_eval(angle2)\n",
    "        angle1 = parsed_angle1\n",
    "        angle2 = parsed_angle2\n",
    "        # print(type(angle1),angle1,angle2)\n",
    "        solve = solve_homogeous3(angle1,angle2)\n",
    "        lpmax_x,lpmax_y = solve\n",
    "        # print(lpmax_x[0],',',lpmax_y[0])\n",
    "        if (lpmax_x[0] == 0) | (lpmax_y[0] == 0) :\n",
    "            pass\n",
    "        else :\n",
    "            filter_list.append((angle1,angle2,solve))\n",
    "    pd.DataFrame(filter_list).to_excel(f'/Users/ramboair/My_Doc/Hexagons/new3dim/solved/filter_solved/{case_i}_filter.xlsx',index=False)\n",
    "    print(f'End {case_i}')"
   ]
  }
 ],
 "metadata": {
  "kernelspec": {
   "display_name": ".venv",
   "language": "python",
   "name": "python3"
  },
  "language_info": {
   "codemirror_mode": {
    "name": "ipython",
    "version": 3
   },
   "file_extension": ".py",
   "mimetype": "text/x-python",
   "name": "python",
   "nbconvert_exporter": "python",
   "pygments_lexer": "ipython3",
   "version": "3.13.1"
  }
 },
 "nbformat": 4,
 "nbformat_minor": 5
}
